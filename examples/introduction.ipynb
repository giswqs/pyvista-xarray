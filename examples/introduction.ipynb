{
 "cells": [
  {
   "cell_type": "markdown",
   "id": "a7d44652-f1bb-409a-91ab-0c60f37ebcfb",
   "metadata": {},
   "source": [
    "## An introduction to pyvista-xarray"
   ]
  },
  {
   "cell_type": "markdown",
   "id": "3523b485-1f8e-44af-88bb-11ec9b0b2eed",
   "metadata": {},
   "source": [
    "You must `import pvxarray` in order to register the `DataArray` accessor with\n",
    "xarray. After which, a `pyvista` namespace of accessors will be available.\n",
    "\n",
    "The following is an example to visualize a `RectilinearGrid` with PyVista:"
   ]
  },
  {
   "cell_type": "code",
   "execution_count": null,
   "id": "57cf2840-93c8-4a9b-96a8-945a1b300df3",
   "metadata": {},
   "outputs": [],
   "source": [
    "import pvxarray\n",
    "import xarray as xr\n",
    "\n",
    "ds = xr.tutorial.load_dataset(\"air_temperature\")\n",
    "da = ds.air[dict(time=0)]  # Select DataArray for a timestep\n",
    "\n",
    "# Plot in 3D\n",
    "da.pyvista.plot(show_edges=True, cpos='xy')\n",
    "\n",
    "# Or grab the mesh object for use with PyVista\n",
    "mesh = da.pyvista.mesh"
   ]
  },
  {
   "cell_type": "markdown",
   "id": "044a198a-bea7-44d3-8a72-d6e9caa990d8",
   "metadata": {},
   "source": [
    "### Simple RectilinearGrid"
   ]
  },
  {
   "cell_type": "code",
   "execution_count": null,
   "id": "14fe8e06-bb6a-4a91-929d-2673ad36403f",
   "metadata": {},
   "outputs": [],
   "source": [
    "import numpy as np\n",
    "import pvxarray\n",
    "import xarray as xr\n",
    "\n",
    "lon = np.array([-99.83, -99.32])\n",
    "lat = np.array([42.25, 42.21])\n",
    "z = np.array([0, 10])\n",
    "temp = 15 + 8 * np.random.randn(2, 2, 2)\n",
    "\n",
    "ds = xr.Dataset(\n",
    "    {\n",
    "        \"temperature\": ([\"z\", \"x\", \"y\"], temp),\n",
    "    },\n",
    "    coords={\n",
    "        \"lon\": ([\"x\"], lon),\n",
    "        \"lat\": ([\"y\"], lat),\n",
    "        \"z\": ([\"z\"], z),\n",
    "    },\n",
    ")\n",
    "\n",
    "mesh = ds.temperature.pyvista.mesh\n",
    "mesh.plot()"
   ]
  },
  {
   "cell_type": "markdown",
   "id": "1a914020-6930-4d22-9555-666afbe9fb2f",
   "metadata": {},
   "source": [
    "### Raster with rioxarray"
   ]
  },
  {
   "cell_type": "code",
   "execution_count": null,
   "id": "cdb5face-9755-4e44-81b4-a7b7f0764071",
   "metadata": {},
   "outputs": [],
   "source": [
    "!wget https://github.com/giswqs/data/raw/main/raster/srtm90.tif"
   ]
  },
  {
   "cell_type": "code",
   "execution_count": null,
   "id": "f2faca4b-40ef-46c0-960f-70e72511854b",
   "metadata": {},
   "outputs": [],
   "source": [
    "import pvxarray\n",
    "import rioxarray\n",
    "\n",
    "da = rioxarray.open_rasterio(\"srtm90.tif\")\n",
    "da = da.rio.reproject(\"EPSG:3857\")\n",
    "\n",
    "# Grab the mesh object for use with PyVista\n",
    "mesh = da.pyvista.mesh\n",
    "\n",
    "# Warp top and plot in 3D\n",
    "mesh.warp_by_scalar(factor=2).plot()"
   ]
  }
 ],
 "metadata": {
  "kernelspec": {
   "display_name": "Python 3",
   "language": "python",
   "name": "python3"
  },
  "language_info": {
   "codemirror_mode": {
    "name": "ipython",
    "version": 3
   },
   "file_extension": ".py",
   "mimetype": "text/x-python",
   "name": "python",
   "nbconvert_exporter": "python",
   "pygments_lexer": "ipython3",
   "version": "3.9.10"
  }
 },
 "nbformat": 4,
 "nbformat_minor": 5
}
